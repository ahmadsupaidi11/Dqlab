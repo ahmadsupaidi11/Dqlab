{
 "cells": [
  {
   "cell_type": "code",
   "execution_count": 64,
   "metadata": {},
   "outputs": [],
   "source": [
    "import pandas as pd\n",
    "from sklearn.model_selection import train_test_split\n",
    "pd.set_option('display.max_columns', 20)"
   ]
  },
  {
   "cell_type": "code",
   "execution_count": 65,
   "metadata": {},
   "outputs": [
    {
     "name": "stdout",
     "output_type": "stream",
     "text": [
      "  kode_kontrak  pendapatan_setahun_juta kpr_aktif  durasi_pinjaman_bulan  \\\n",
      "0   AGR-000001                      295        YA                     48   \n",
      "1   AGR-000011                      271        YA                     36   \n",
      "2   AGR-000030                      159     TIDAK                     12   \n",
      "3   AGR-000043                      210        YA                     12   \n",
      "4   AGR-000049                      165     TIDAK                     36   \n",
      "\n",
      "   jumlah_tanggungan rata_rata_overdue  risk_rating  \n",
      "0                  5      61 - 90 days            4  \n",
      "1                  5      61 - 90 days            4  \n",
      "2                  0       0 - 30 days            1  \n",
      "3                  3      46 - 60 days            3  \n",
      "4                  0      31 - 45 days            2  \n"
     ]
    }
   ],
   "source": [
    "df = pd.read_excel('credit_scoring_dqlab.xlsx')\n",
    "print(df.head())"
   ]
  },
  {
   "cell_type": "code",
   "execution_count": 66,
   "metadata": {},
   "outputs": [],
   "source": [
    "df.drop('kode_kontrak', axis=1, inplace=True)"
   ]
  },
  {
   "cell_type": "code",
   "execution_count": 67,
   "metadata": {},
   "outputs": [
    {
     "name": "stdout",
     "output_type": "stream",
     "text": [
      "melihat data unique pada kolom rata-rata-overdue\n",
      "['61 - 90 days' '0 - 30 days' '46 - 60 days' '31 - 45 days' '> 90 days']\n",
      "\n",
      "\n",
      "melihat data unique pada kolom risk_rating\n",
      "[4 1 3 2 5]\n",
      "membandingkan data pada kolom rata-rata-overdue dan risk_rating:\n",
      "    rata_rata_overdue  risk_rating\n",
      "0        61 - 90 days            4\n",
      "1        61 - 90 days            4\n",
      "2         0 - 30 days            1\n",
      "3        46 - 60 days            3\n",
      "4        31 - 45 days            2\n",
      "..                ...          ...\n",
      "895         > 90 days            5\n",
      "896      46 - 60 days            3\n",
      "897       0 - 30 days            1\n",
      "898      31 - 45 days            2\n",
      "899       0 - 30 days            1\n",
      "\n",
      "[900 rows x 2 columns]\n"
     ]
    }
   ],
   "source": [
    "print('melihat data unique pada kolom rata-rata-overdue')\n",
    "print(df['rata_rata_overdue'].unique())\n",
    "print('\\n')\n",
    "print('melihat data unique pada kolom risk_rating')\n",
    "print(df['risk_rating'].unique())\n",
    "print('membandingkan data pada kolom rata-rata-overdue dan risk_rating:')\n",
    "print(df[['rata_rata_overdue', 'risk_rating']])"
   ]
  },
  {
   "cell_type": "code",
   "execution_count": 68,
   "metadata": {},
   "outputs": [
    {
     "name": "stdout",
     "output_type": "stream",
     "text": [
      "risk_rating\n",
      "3    291\n",
      "1    227\n",
      "2    159\n",
      "4    120\n",
      "5    103\n",
      "Name: count, dtype: int64\n"
     ]
    }
   ],
   "source": [
    "df.drop('rata_rata_overdue', axis=1, inplace=True)\n",
    "print(df['risk_rating'].value_counts())"
   ]
  },
  {
   "cell_type": "code",
   "execution_count": 69,
   "metadata": {},
   "outputs": [
    {
     "name": "stdout",
     "output_type": "stream",
     "text": [
      "<class 'pandas.core.frame.DataFrame'>\n",
      "RangeIndex: 900 entries, 0 to 899\n",
      "Data columns (total 5 columns):\n",
      " #   Column                   Non-Null Count  Dtype \n",
      "---  ------                   --------------  ----- \n",
      " 0   pendapatan_setahun_juta  900 non-null    int64 \n",
      " 1   kpr_aktif                900 non-null    object\n",
      " 2   durasi_pinjaman_bulan    900 non-null    int64 \n",
      " 3   jumlah_tanggungan        900 non-null    int64 \n",
      " 4   risk_rating              900 non-null    int64 \n",
      "dtypes: int64(4), object(1)\n",
      "memory usage: 35.3+ KB\n",
      "\n",
      " data unik untuk kpr_aktif ['YA' 'TIDAK']\n",
      "\n",
      " Tipe data <class 'str'>\n"
     ]
    }
   ],
   "source": [
    "df.info()\n",
    "print('\\n data unik untuk kpr_aktif', df['kpr_aktif'].unique())\n",
    "print('\\n Tipe data', type(df['kpr_aktif'].iloc[1]))"
   ]
  },
  {
   "cell_type": "code",
   "execution_count": 70,
   "metadata": {},
   "outputs": [
    {
     "name": "stdout",
     "output_type": "stream",
     "text": [
      "<class 'pandas.core.frame.DataFrame'>\n",
      "RangeIndex: 900 entries, 0 to 899\n",
      "Data columns (total 5 columns):\n",
      " #   Column                   Non-Null Count  Dtype\n",
      "---  ------                   --------------  -----\n",
      " 0   pendapatan_setahun_juta  900 non-null    int64\n",
      " 1   kpr_aktif                900 non-null    bool \n",
      " 2   durasi_pinjaman_bulan    900 non-null    int64\n",
      " 3   jumlah_tanggungan        900 non-null    int64\n",
      " 4   risk_rating              900 non-null    int64\n",
      "dtypes: bool(1), int64(4)\n",
      "memory usage: 29.1 KB\n"
     ]
    }
   ],
   "source": [
    "#konversi tipedata kpr_aktif menjadi boolean\n",
    "\n",
    "df.loc[(df['kpr_aktif'] == 'YA'), 'kpr_aktif'] = True\n",
    "df.loc[(df['kpr_aktif'] == 'TIDAK'), 'kpr_aktif'] = False\n",
    "df['kpr_aktif'] = df['kpr_aktif'].astype('bool')\n",
    "df.info()"
   ]
  },
  {
   "cell_type": "code",
   "execution_count": 71,
   "metadata": {},
   "outputs": [],
   "source": [
    "features_cols = ['pendapatan_setahun_juta', 'kpr_aktif', 'durasi_pinjaman_bulan', 'jumlah_tanggungan']\n",
    "X = df[features_cols]\n",
    "y= df['risk_rating']"
   ]
  },
  {
   "cell_type": "code",
   "execution_count": 72,
   "metadata": {},
   "outputs": [
    {
     "name": "stdout",
     "output_type": "stream",
     "text": [
      "menampilkan data training set: (540, 4)\n",
      "menampilkan data test set: (360, 4)\n"
     ]
    }
   ],
   "source": [
    "X_train, X_test, y_train, y_test = train_test_split(X, y, test_size=0.4, random_state=42)\n",
    "print('menampilkan data training set:',X_train.shape)\n",
    "print('menampilkan data test set:',X_test.shape)"
   ]
  },
  {
   "cell_type": "code",
   "execution_count": 74,
   "metadata": {},
   "outputs": [
    {
     "name": "stdout",
     "output_type": "stream",
     "text": [
      "menampilkan data training set: risk_rating\n",
      "3    32.407407\n",
      "1    25.000000\n",
      "2    17.222222\n",
      "4    13.703704\n",
      "5    11.666667\n",
      "Name: proportion, dtype: float64\n",
      "menampilkan data test set: risk_rating\n",
      "3    32.222222\n",
      "1    25.555556\n",
      "2    18.333333\n",
      "4    12.777778\n",
      "5    11.111111\n",
      "Name: proportion, dtype: float64\n"
     ]
    }
   ],
   "source": [
    "print('menampilkan data training set:',y_train.value_counts(normalize=True)*100)\n",
    "print('menampilkan data test set:',y_test.value_counts(normalize=True)*100)"
   ]
  }
 ],
 "metadata": {
  "kernelspec": {
   "display_name": "Python 3",
   "language": "python",
   "name": "python3"
  },
  "language_info": {
   "codemirror_mode": {
    "name": "ipython",
    "version": 3
   },
   "file_extension": ".py",
   "mimetype": "text/x-python",
   "name": "python",
   "nbconvert_exporter": "python",
   "pygments_lexer": "ipython3",
   "version": "3.11.1"
  }
 },
 "nbformat": 4,
 "nbformat_minor": 2
}
