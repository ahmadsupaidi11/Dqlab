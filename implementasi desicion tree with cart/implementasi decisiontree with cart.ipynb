{
 "cells": [
  {
   "cell_type": "code",
   "execution_count": 19,
   "metadata": {},
   "outputs": [],
   "source": [
    "import pandas as pd\n",
    "pd.set_option('display.max_columns', 20)"
   ]
  },
  {
   "cell_type": "code",
   "execution_count": 20,
   "metadata": {},
   "outputs": [
    {
     "name": "stdout",
     "output_type": "stream",
     "text": [
      "  kode_kontrak  pendapatan_setahun_juta kpr_aktif  durasi_pinjaman_bulan  \\\n",
      "0   AGR-000001                      295        YA                     48   \n",
      "1   AGR-000011                      271        YA                     36   \n",
      "2   AGR-000030                      159     TIDAK                     12   \n",
      "3   AGR-000043                      210        YA                     12   \n",
      "4   AGR-000049                      165     TIDAK                     36   \n",
      "\n",
      "   jumlah_tanggungan rata_rata_overdue  risk_rating  \n",
      "0                  5      61 - 90 days            4  \n",
      "1                  5      61 - 90 days            4  \n",
      "2                  0       0 - 30 days            1  \n",
      "3                  3      46 - 60 days            3  \n",
      "4                  0      31 - 45 days            2  \n"
     ]
    }
   ],
   "source": [
    "df = pd.read_excel('credit_scoring_dqlab.xlsx')\n",
    "print(df.head())"
   ]
  },
  {
   "cell_type": "code",
   "execution_count": 21,
   "metadata": {},
   "outputs": [],
   "source": [
    "df.drop('kode_kontrak', axis=1, inplace=True)"
   ]
  },
  {
   "cell_type": "code",
   "execution_count": 22,
   "metadata": {},
   "outputs": [
    {
     "name": "stdout",
     "output_type": "stream",
     "text": [
      "melihat data unique pada kolom rata-rata-overdue\n",
      "['61 - 90 days' '0 - 30 days' '46 - 60 days' '31 - 45 days' '> 90 days']\n",
      "\n",
      "\n",
      "melihat data unique pada kolom risk_rating\n",
      "[4 1 3 2 5]\n",
      "membandingkan data pada kolom rata-rata-overdue dan risk_rating:\n",
      "    rata_rata_overdue  risk_rating\n",
      "0        61 - 90 days            4\n",
      "1        61 - 90 days            4\n",
      "2         0 - 30 days            1\n",
      "3        46 - 60 days            3\n",
      "4        31 - 45 days            2\n",
      "..                ...          ...\n",
      "895         > 90 days            5\n",
      "896      46 - 60 days            3\n",
      "897       0 - 30 days            1\n",
      "898      31 - 45 days            2\n",
      "899       0 - 30 days            1\n",
      "\n",
      "[900 rows x 2 columns]\n"
     ]
    }
   ],
   "source": [
    "print('melihat data unique pada kolom rata-rata-overdue')\n",
    "print(df['rata_rata_overdue'].unique())\n",
    "print('\\n')\n",
    "print('melihat data unique pada kolom risk_rating')\n",
    "print(df['risk_rating'].unique())\n",
    "print('membandingkan data pada kolom rata-rata-overdue dan risk_rating:')\n",
    "print(df[['rata_rata_overdue', 'risk_rating']])"
   ]
  }
 ],
 "metadata": {
  "kernelspec": {
   "display_name": "Python 3",
   "language": "python",
   "name": "python3"
  },
  "language_info": {
   "codemirror_mode": {
    "name": "ipython",
    "version": 3
   },
   "file_extension": ".py",
   "mimetype": "text/x-python",
   "name": "python",
   "nbconvert_exporter": "python",
   "pygments_lexer": "ipython3",
   "version": "3.11.1"
  }
 },
 "nbformat": 4,
 "nbformat_minor": 2
}
